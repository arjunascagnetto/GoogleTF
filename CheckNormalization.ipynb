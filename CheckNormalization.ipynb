{
  "nbformat": 4,
  "nbformat_minor": 0,
  "metadata": {
    "colab": {
      "name": "Copia di Normalization.ipynb",
      "provenance": [],
      "collapsed_sections": [],
      "authorship_tag": "ABX9TyN6SM17kpnFJEYu96FZNLXX",
      "include_colab_link": true
    },
    "kernelspec": {
      "name": "python3",
      "display_name": "Python 3"
    }
  },
  "cells": [
    {
      "cell_type": "markdown",
      "metadata": {
        "id": "view-in-github",
        "colab_type": "text"
      },
      "source": [
        "<a href=\"https://colab.research.google.com/github/arjunascagnetto/GoogleTF/blob/main/CheckNormalization.ipynb\" target=\"_parent\"><img src=\"https://colab.research.google.com/assets/colab-badge.svg\" alt=\"Open In Colab\"/></a>"
      ]
    },
    {
      "cell_type": "code",
      "metadata": {
        "id": "D8aTVJrhKc_U"
      },
      "source": [
        "import tensorflow as tf\r\n",
        "import numpy as np"
      ],
      "execution_count": 1,
      "outputs": []
    },
    {
      "cell_type": "code",
      "metadata": {
        "id": "o6oYZUwFKncd",
        "colab": {
          "base_uri": "https://localhost:8080/"
        },
        "outputId": "39c831f5-32a3-4afa-acd1-b568506d85ac"
      },
      "source": [
        "model = tf.keras.Sequential([keras.layers.Dense(units=1)])\r\n",
        "model.compile(optimizer='sgd',loss='mean_squared_error')\r\n",
        "to = 10\r\n",
        "x = np.array(range(1,to),dtype=float)\r\n",
        "y = 3*x+1\r\n",
        "ys = y\r\n",
        "xs = x\r\n",
        "model.fit(xs,ys,epochs=500,verbose=0) \r\n",
        "val = np.random.ranf()\r\n",
        "print(val)\r\n",
        "print(model.predict([val]))\r\n",
        "print(val * 3 +1)"
      ],
      "execution_count": 3,
      "outputs": [
        {
          "output_type": "stream",
          "text": [
            "0.6396194752979202\n",
            "[[2.8753638]]\n",
            "2.9188584258937604\n"
          ],
          "name": "stdout"
        }
      ]
    },
    {
      "cell_type": "code",
      "metadata": {
        "colab": {
          "base_uri": "https://localhost:8080/"
        },
        "id": "qnw4uASqhdcR",
        "outputId": "e1944e94-3539-4e56-a4e0-e52ffa77151c"
      },
      "source": [
        "model = tf.keras.Sequential([keras.layers.Dense(units=1)])\r\n",
        "model.compile(optimizer='sgd',loss='mean_squared_error')\r\n",
        "to = 500\r\n",
        "x = np.array(range(1,to),dtype=float)\r\n",
        "y = 3*x+1\r\n",
        "ys = y\r\n",
        "xs = x\r\n",
        "model.fit(xs,ys,epochs=500,verbose=0)\r\n",
        "val = np.random.ranf()\r\n",
        "print(val)\r\n",
        "print(model.predict([val]))\r\n",
        "print(val * 3 +1)"
      ],
      "execution_count": 4,
      "outputs": [
        {
          "output_type": "stream",
          "text": [
            "0.3821766105527338\n",
            "[[nan]]\n",
            "2.146529831658201\n"
          ],
          "name": "stdout"
        }
      ]
    },
    {
      "cell_type": "code",
      "metadata": {
        "colab": {
          "base_uri": "https://localhost:8080/"
        },
        "id": "gzVGRzbthjSp",
        "outputId": "75680599-8cea-45df-9181-af0eaeef53c6"
      },
      "source": [
        "model = tf.keras.Sequential([keras.layers.Dense(units=1)])\r\n",
        "model.compile(optimizer='sgd',loss='mean_squared_error')\r\n",
        "to = 500\r\n",
        "x = np.array(range(1,to),dtype=float)\r\n",
        "y = 3*x+1\r\n",
        "ys = y\r\n",
        "xs = x/to\r\n",
        "model.fit(xs,ys,epochs=500,verbose=0)\r\n",
        "val = np.random.ranf()*to\r\n",
        "print(val)\r\n",
        "print(model.predict([val/to]))\r\n",
        "print(val * 3 +1)"
      ],
      "execution_count": 5,
      "outputs": [
        {
          "output_type": "stream",
          "text": [
            "242.78613200424465\n",
            "[[729.35974]]\n",
            "729.3583960127339\n"
          ],
          "name": "stdout"
        }
      ]
    },
    {
      "cell_type": "code",
      "metadata": {
        "id": "DfO-Ac9Mhzxs"
      },
      "source": [
        ""
      ],
      "execution_count": null,
      "outputs": []
    }
  ]
}